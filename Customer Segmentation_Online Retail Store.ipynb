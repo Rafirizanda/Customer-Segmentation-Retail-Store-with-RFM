{
 "cells": [
  {
   "cell_type": "code",
   "execution_count": 1,
   "id": "0827347b",
   "metadata": {},
   "outputs": [],
   "source": [
    "#Informasi Dataset\n",
    "#https://www.kaggle.com/datasets/mashlyn/online-retail-ii-uci/data"
   ]
  },
  {
   "cell_type": "code",
   "execution_count": 2,
   "id": "774fd148",
   "metadata": {},
   "outputs": [],
   "source": [
    "#import libraries\n",
    "import pandas as pd\n",
    "import seaborn as sns\n",
    "import numpy as np\n",
    "import matplotlib.pyplot as plt"
   ]
  },
  {
   "cell_type": "code",
   "execution_count": 3,
   "id": "95abd7e6",
   "metadata": {},
   "outputs": [],
   "source": [
    "df = pd.read_csv('online_retail_II.csv')"
   ]
  },
  {
   "cell_type": "code",
   "execution_count": 4,
   "id": "aed8b8e1",
   "metadata": {},
   "outputs": [
    {
     "data": {
      "text/html": [
       "<div>\n",
       "<style scoped>\n",
       "    .dataframe tbody tr th:only-of-type {\n",
       "        vertical-align: middle;\n",
       "    }\n",
       "\n",
       "    .dataframe tbody tr th {\n",
       "        vertical-align: top;\n",
       "    }\n",
       "\n",
       "    .dataframe thead th {\n",
       "        text-align: right;\n",
       "    }\n",
       "</style>\n",
       "<table border=\"1\" class=\"dataframe\">\n",
       "  <thead>\n",
       "    <tr style=\"text-align: right;\">\n",
       "      <th></th>\n",
       "      <th>Invoice</th>\n",
       "      <th>StockCode</th>\n",
       "      <th>Description</th>\n",
       "      <th>Quantity</th>\n",
       "      <th>InvoiceDate</th>\n",
       "      <th>Price</th>\n",
       "      <th>Customer ID</th>\n",
       "      <th>Country</th>\n",
       "    </tr>\n",
       "  </thead>\n",
       "  <tbody>\n",
       "    <tr>\n",
       "      <th>0</th>\n",
       "      <td>489434</td>\n",
       "      <td>85048</td>\n",
       "      <td>15CM CHRISTMAS GLASS BALL 20 LIGHTS</td>\n",
       "      <td>12</td>\n",
       "      <td>2009-12-01 07:45:00</td>\n",
       "      <td>6.95</td>\n",
       "      <td>13085.0</td>\n",
       "      <td>United Kingdom</td>\n",
       "    </tr>\n",
       "    <tr>\n",
       "      <th>1</th>\n",
       "      <td>489434</td>\n",
       "      <td>79323P</td>\n",
       "      <td>PINK CHERRY LIGHTS</td>\n",
       "      <td>12</td>\n",
       "      <td>2009-12-01 07:45:00</td>\n",
       "      <td>6.75</td>\n",
       "      <td>13085.0</td>\n",
       "      <td>United Kingdom</td>\n",
       "    </tr>\n",
       "    <tr>\n",
       "      <th>2</th>\n",
       "      <td>489434</td>\n",
       "      <td>79323W</td>\n",
       "      <td>WHITE CHERRY LIGHTS</td>\n",
       "      <td>12</td>\n",
       "      <td>2009-12-01 07:45:00</td>\n",
       "      <td>6.75</td>\n",
       "      <td>13085.0</td>\n",
       "      <td>United Kingdom</td>\n",
       "    </tr>\n",
       "    <tr>\n",
       "      <th>3</th>\n",
       "      <td>489434</td>\n",
       "      <td>22041</td>\n",
       "      <td>RECORD FRAME 7\" SINGLE SIZE</td>\n",
       "      <td>48</td>\n",
       "      <td>2009-12-01 07:45:00</td>\n",
       "      <td>2.10</td>\n",
       "      <td>13085.0</td>\n",
       "      <td>United Kingdom</td>\n",
       "    </tr>\n",
       "    <tr>\n",
       "      <th>4</th>\n",
       "      <td>489434</td>\n",
       "      <td>21232</td>\n",
       "      <td>STRAWBERRY CERAMIC TRINKET BOX</td>\n",
       "      <td>24</td>\n",
       "      <td>2009-12-01 07:45:00</td>\n",
       "      <td>1.25</td>\n",
       "      <td>13085.0</td>\n",
       "      <td>United Kingdom</td>\n",
       "    </tr>\n",
       "    <tr>\n",
       "      <th>5</th>\n",
       "      <td>489434</td>\n",
       "      <td>22064</td>\n",
       "      <td>PINK DOUGHNUT TRINKET POT</td>\n",
       "      <td>24</td>\n",
       "      <td>2009-12-01 07:45:00</td>\n",
       "      <td>1.65</td>\n",
       "      <td>13085.0</td>\n",
       "      <td>United Kingdom</td>\n",
       "    </tr>\n",
       "    <tr>\n",
       "      <th>6</th>\n",
       "      <td>489434</td>\n",
       "      <td>21871</td>\n",
       "      <td>SAVE THE PLANET MUG</td>\n",
       "      <td>24</td>\n",
       "      <td>2009-12-01 07:45:00</td>\n",
       "      <td>1.25</td>\n",
       "      <td>13085.0</td>\n",
       "      <td>United Kingdom</td>\n",
       "    </tr>\n",
       "    <tr>\n",
       "      <th>7</th>\n",
       "      <td>489434</td>\n",
       "      <td>21523</td>\n",
       "      <td>FANCY FONT HOME SWEET HOME DOORMAT</td>\n",
       "      <td>10</td>\n",
       "      <td>2009-12-01 07:45:00</td>\n",
       "      <td>5.95</td>\n",
       "      <td>13085.0</td>\n",
       "      <td>United Kingdom</td>\n",
       "    </tr>\n",
       "    <tr>\n",
       "      <th>8</th>\n",
       "      <td>489435</td>\n",
       "      <td>22350</td>\n",
       "      <td>CAT BOWL</td>\n",
       "      <td>12</td>\n",
       "      <td>2009-12-01 07:46:00</td>\n",
       "      <td>2.55</td>\n",
       "      <td>13085.0</td>\n",
       "      <td>United Kingdom</td>\n",
       "    </tr>\n",
       "    <tr>\n",
       "      <th>9</th>\n",
       "      <td>489435</td>\n",
       "      <td>22349</td>\n",
       "      <td>DOG BOWL , CHASING BALL DESIGN</td>\n",
       "      <td>12</td>\n",
       "      <td>2009-12-01 07:46:00</td>\n",
       "      <td>3.75</td>\n",
       "      <td>13085.0</td>\n",
       "      <td>United Kingdom</td>\n",
       "    </tr>\n",
       "  </tbody>\n",
       "</table>\n",
       "</div>"
      ],
      "text/plain": [
       "  Invoice StockCode                          Description  Quantity  \\\n",
       "0  489434     85048  15CM CHRISTMAS GLASS BALL 20 LIGHTS        12   \n",
       "1  489434    79323P                   PINK CHERRY LIGHTS        12   \n",
       "2  489434    79323W                  WHITE CHERRY LIGHTS        12   \n",
       "3  489434     22041         RECORD FRAME 7\" SINGLE SIZE         48   \n",
       "4  489434     21232       STRAWBERRY CERAMIC TRINKET BOX        24   \n",
       "5  489434     22064           PINK DOUGHNUT TRINKET POT         24   \n",
       "6  489434     21871                  SAVE THE PLANET MUG        24   \n",
       "7  489434     21523   FANCY FONT HOME SWEET HOME DOORMAT        10   \n",
       "8  489435     22350                            CAT BOWL         12   \n",
       "9  489435     22349       DOG BOWL , CHASING BALL DESIGN        12   \n",
       "\n",
       "           InvoiceDate  Price  Customer ID         Country  \n",
       "0  2009-12-01 07:45:00   6.95      13085.0  United Kingdom  \n",
       "1  2009-12-01 07:45:00   6.75      13085.0  United Kingdom  \n",
       "2  2009-12-01 07:45:00   6.75      13085.0  United Kingdom  \n",
       "3  2009-12-01 07:45:00   2.10      13085.0  United Kingdom  \n",
       "4  2009-12-01 07:45:00   1.25      13085.0  United Kingdom  \n",
       "5  2009-12-01 07:45:00   1.65      13085.0  United Kingdom  \n",
       "6  2009-12-01 07:45:00   1.25      13085.0  United Kingdom  \n",
       "7  2009-12-01 07:45:00   5.95      13085.0  United Kingdom  \n",
       "8  2009-12-01 07:46:00   2.55      13085.0  United Kingdom  \n",
       "9  2009-12-01 07:46:00   3.75      13085.0  United Kingdom  "
      ]
     },
     "execution_count": 4,
     "metadata": {},
     "output_type": "execute_result"
    }
   ],
   "source": [
    "df.head(10)"
   ]
  },
  {
   "cell_type": "code",
   "execution_count": 5,
   "id": "c4a5d93d",
   "metadata": {},
   "outputs": [
    {
     "data": {
      "text/plain": [
       "(1067371, 8)"
      ]
     },
     "execution_count": 5,
     "metadata": {},
     "output_type": "execute_result"
    }
   ],
   "source": [
    "df.shape"
   ]
  },
  {
   "cell_type": "code",
   "execution_count": 6,
   "id": "a1e9e3ad",
   "metadata": {},
   "outputs": [
    {
     "name": "stdout",
     "output_type": "stream",
     "text": [
      "Invoice             0\n",
      "StockCode           0\n",
      "Description      4382\n",
      "Quantity            0\n",
      "InvoiceDate         0\n",
      "Price               0\n",
      "Customer ID    243007\n",
      "Country             0\n",
      "dtype: int64\n"
     ]
    }
   ],
   "source": [
    "#cek missing values\n",
    "\n",
    "print(df.isnull().sum())"
   ]
  },
  {
   "cell_type": "code",
   "execution_count": 7,
   "id": "7309d5b4",
   "metadata": {},
   "outputs": [],
   "source": [
    "#drop nilai null\n",
    "\n",
    "df = df.dropna(subset=['Customer ID'])\n",
    "df = df.drop(columns=['Description'])"
   ]
  },
  {
   "cell_type": "code",
   "execution_count": 8,
   "id": "f98e26a7",
   "metadata": {},
   "outputs": [
    {
     "data": {
      "text/plain": [
       "(824364, 7)"
      ]
     },
     "execution_count": 8,
     "metadata": {},
     "output_type": "execute_result"
    }
   ],
   "source": [
    "df.shape"
   ]
  },
  {
   "cell_type": "code",
   "execution_count": 9,
   "id": "ef0de22b",
   "metadata": {},
   "outputs": [],
   "source": [
    "#menghitung nilai totalsales\n",
    "df['TotalSales'] = df['Quantity'] * df['Price']"
   ]
  },
  {
   "cell_type": "code",
   "execution_count": 10,
   "id": "9e9cdc7d",
   "metadata": {},
   "outputs": [],
   "source": [
    "df = df[~df['Invoice'].astype(str).str.startswith('C')]"
   ]
  },
  {
   "cell_type": "code",
   "execution_count": 11,
   "id": "f0ed4ab0",
   "metadata": {},
   "outputs": [
    {
     "name": "stdout",
     "output_type": "stream",
     "text": [
      "Jumlah data setelah hapus cancellation: (805620, 8)\n"
     ]
    }
   ],
   "source": [
    "print(\"Jumlah data setelah hapus cancellation:\", df.shape)"
   ]
  },
  {
   "cell_type": "code",
   "execution_count": 12,
   "id": "5741e3d8",
   "metadata": {},
   "outputs": [],
   "source": [
    "df = df[(df['Quantity'] > 0) & (df['Price'] > 0)]"
   ]
  },
  {
   "cell_type": "code",
   "execution_count": 13,
   "id": "0a7844b4",
   "metadata": {},
   "outputs": [
    {
     "name": "stdout",
     "output_type": "stream",
     "text": [
      "Jumlah data setelah hapus return dan cek outlier: (805549, 8)\n"
     ]
    }
   ],
   "source": [
    "print(\"Jumlah data setelah hapus return dan cek outlier:\", df.shape)"
   ]
  },
  {
   "cell_type": "code",
   "execution_count": 14,
   "id": "7e222292",
   "metadata": {},
   "outputs": [],
   "source": [
    "#konversi invoicedate ke datetime\n",
    "df['InvoiceDate'] = pd.to_datetime(df['InvoiceDate'])"
   ]
  },
  {
   "cell_type": "code",
   "execution_count": 15,
   "id": "6f0632d4",
   "metadata": {},
   "outputs": [
    {
     "data": {
      "text/html": [
       "<div>\n",
       "<style scoped>\n",
       "    .dataframe tbody tr th:only-of-type {\n",
       "        vertical-align: middle;\n",
       "    }\n",
       "\n",
       "    .dataframe tbody tr th {\n",
       "        vertical-align: top;\n",
       "    }\n",
       "\n",
       "    .dataframe thead th {\n",
       "        text-align: right;\n",
       "    }\n",
       "</style>\n",
       "<table border=\"1\" class=\"dataframe\">\n",
       "  <thead>\n",
       "    <tr style=\"text-align: right;\">\n",
       "      <th></th>\n",
       "      <th>Invoice</th>\n",
       "      <th>StockCode</th>\n",
       "      <th>Quantity</th>\n",
       "      <th>InvoiceDate</th>\n",
       "      <th>Price</th>\n",
       "      <th>Customer ID</th>\n",
       "      <th>Country</th>\n",
       "      <th>TotalSales</th>\n",
       "    </tr>\n",
       "  </thead>\n",
       "  <tbody>\n",
       "    <tr>\n",
       "      <th>0</th>\n",
       "      <td>489434</td>\n",
       "      <td>85048</td>\n",
       "      <td>12</td>\n",
       "      <td>2009-12-01 07:45:00</td>\n",
       "      <td>6.95</td>\n",
       "      <td>13085.0</td>\n",
       "      <td>United Kingdom</td>\n",
       "      <td>83.4</td>\n",
       "    </tr>\n",
       "    <tr>\n",
       "      <th>1</th>\n",
       "      <td>489434</td>\n",
       "      <td>79323P</td>\n",
       "      <td>12</td>\n",
       "      <td>2009-12-01 07:45:00</td>\n",
       "      <td>6.75</td>\n",
       "      <td>13085.0</td>\n",
       "      <td>United Kingdom</td>\n",
       "      <td>81.0</td>\n",
       "    </tr>\n",
       "    <tr>\n",
       "      <th>2</th>\n",
       "      <td>489434</td>\n",
       "      <td>79323W</td>\n",
       "      <td>12</td>\n",
       "      <td>2009-12-01 07:45:00</td>\n",
       "      <td>6.75</td>\n",
       "      <td>13085.0</td>\n",
       "      <td>United Kingdom</td>\n",
       "      <td>81.0</td>\n",
       "    </tr>\n",
       "    <tr>\n",
       "      <th>3</th>\n",
       "      <td>489434</td>\n",
       "      <td>22041</td>\n",
       "      <td>48</td>\n",
       "      <td>2009-12-01 07:45:00</td>\n",
       "      <td>2.10</td>\n",
       "      <td>13085.0</td>\n",
       "      <td>United Kingdom</td>\n",
       "      <td>100.8</td>\n",
       "    </tr>\n",
       "    <tr>\n",
       "      <th>4</th>\n",
       "      <td>489434</td>\n",
       "      <td>21232</td>\n",
       "      <td>24</td>\n",
       "      <td>2009-12-01 07:45:00</td>\n",
       "      <td>1.25</td>\n",
       "      <td>13085.0</td>\n",
       "      <td>United Kingdom</td>\n",
       "      <td>30.0</td>\n",
       "    </tr>\n",
       "    <tr>\n",
       "      <th>5</th>\n",
       "      <td>489434</td>\n",
       "      <td>22064</td>\n",
       "      <td>24</td>\n",
       "      <td>2009-12-01 07:45:00</td>\n",
       "      <td>1.65</td>\n",
       "      <td>13085.0</td>\n",
       "      <td>United Kingdom</td>\n",
       "      <td>39.6</td>\n",
       "    </tr>\n",
       "    <tr>\n",
       "      <th>6</th>\n",
       "      <td>489434</td>\n",
       "      <td>21871</td>\n",
       "      <td>24</td>\n",
       "      <td>2009-12-01 07:45:00</td>\n",
       "      <td>1.25</td>\n",
       "      <td>13085.0</td>\n",
       "      <td>United Kingdom</td>\n",
       "      <td>30.0</td>\n",
       "    </tr>\n",
       "    <tr>\n",
       "      <th>7</th>\n",
       "      <td>489434</td>\n",
       "      <td>21523</td>\n",
       "      <td>10</td>\n",
       "      <td>2009-12-01 07:45:00</td>\n",
       "      <td>5.95</td>\n",
       "      <td>13085.0</td>\n",
       "      <td>United Kingdom</td>\n",
       "      <td>59.5</td>\n",
       "    </tr>\n",
       "    <tr>\n",
       "      <th>8</th>\n",
       "      <td>489435</td>\n",
       "      <td>22350</td>\n",
       "      <td>12</td>\n",
       "      <td>2009-12-01 07:46:00</td>\n",
       "      <td>2.55</td>\n",
       "      <td>13085.0</td>\n",
       "      <td>United Kingdom</td>\n",
       "      <td>30.6</td>\n",
       "    </tr>\n",
       "    <tr>\n",
       "      <th>9</th>\n",
       "      <td>489435</td>\n",
       "      <td>22349</td>\n",
       "      <td>12</td>\n",
       "      <td>2009-12-01 07:46:00</td>\n",
       "      <td>3.75</td>\n",
       "      <td>13085.0</td>\n",
       "      <td>United Kingdom</td>\n",
       "      <td>45.0</td>\n",
       "    </tr>\n",
       "  </tbody>\n",
       "</table>\n",
       "</div>"
      ],
      "text/plain": [
       "  Invoice StockCode  Quantity         InvoiceDate  Price  Customer ID  \\\n",
       "0  489434     85048        12 2009-12-01 07:45:00   6.95      13085.0   \n",
       "1  489434    79323P        12 2009-12-01 07:45:00   6.75      13085.0   \n",
       "2  489434    79323W        12 2009-12-01 07:45:00   6.75      13085.0   \n",
       "3  489434     22041        48 2009-12-01 07:45:00   2.10      13085.0   \n",
       "4  489434     21232        24 2009-12-01 07:45:00   1.25      13085.0   \n",
       "5  489434     22064        24 2009-12-01 07:45:00   1.65      13085.0   \n",
       "6  489434     21871        24 2009-12-01 07:45:00   1.25      13085.0   \n",
       "7  489434     21523        10 2009-12-01 07:45:00   5.95      13085.0   \n",
       "8  489435     22350        12 2009-12-01 07:46:00   2.55      13085.0   \n",
       "9  489435     22349        12 2009-12-01 07:46:00   3.75      13085.0   \n",
       "\n",
       "          Country  TotalSales  \n",
       "0  United Kingdom        83.4  \n",
       "1  United Kingdom        81.0  \n",
       "2  United Kingdom        81.0  \n",
       "3  United Kingdom       100.8  \n",
       "4  United Kingdom        30.0  \n",
       "5  United Kingdom        39.6  \n",
       "6  United Kingdom        30.0  \n",
       "7  United Kingdom        59.5  \n",
       "8  United Kingdom        30.6  \n",
       "9  United Kingdom        45.0  "
      ]
     },
     "execution_count": 15,
     "metadata": {},
     "output_type": "execute_result"
    }
   ],
   "source": [
    "#dataset setelah cleaning dan sudah valid\n",
    "df.head(10)"
   ]
  },
  {
   "cell_type": "code",
   "execution_count": 16,
   "id": "db874979",
   "metadata": {},
   "outputs": [
    {
     "name": "stdout",
     "output_type": "stream",
     "text": [
      "Reference Date: 2011-12-10 12:50:00\n"
     ]
    }
   ],
   "source": [
    "#buat tabel RFM (recency, frequency, monetary)\n",
    "import datetime as dt\n",
    "\n",
    "reference_date = df['InvoiceDate'].max() + dt.timedelta(days=1)\n",
    "print(\"Reference Date:\", reference_date)"
   ]
  },
  {
   "cell_type": "code",
   "execution_count": 17,
   "id": "58511656",
   "metadata": {},
   "outputs": [
    {
     "data": {
      "text/html": [
       "<div>\n",
       "<style scoped>\n",
       "    .dataframe tbody tr th:only-of-type {\n",
       "        vertical-align: middle;\n",
       "    }\n",
       "\n",
       "    .dataframe tbody tr th {\n",
       "        vertical-align: top;\n",
       "    }\n",
       "\n",
       "    .dataframe thead th {\n",
       "        text-align: right;\n",
       "    }\n",
       "</style>\n",
       "<table border=\"1\" class=\"dataframe\">\n",
       "  <thead>\n",
       "    <tr style=\"text-align: right;\">\n",
       "      <th></th>\n",
       "      <th>Recency</th>\n",
       "      <th>Frequency</th>\n",
       "      <th>Monetary</th>\n",
       "    </tr>\n",
       "    <tr>\n",
       "      <th>Customer ID</th>\n",
       "      <th></th>\n",
       "      <th></th>\n",
       "      <th></th>\n",
       "    </tr>\n",
       "  </thead>\n",
       "  <tbody>\n",
       "    <tr>\n",
       "      <th>12346.0</th>\n",
       "      <td>326</td>\n",
       "      <td>12</td>\n",
       "      <td>77556.46</td>\n",
       "    </tr>\n",
       "    <tr>\n",
       "      <th>12347.0</th>\n",
       "      <td>2</td>\n",
       "      <td>8</td>\n",
       "      <td>5633.32</td>\n",
       "    </tr>\n",
       "    <tr>\n",
       "      <th>12348.0</th>\n",
       "      <td>75</td>\n",
       "      <td>5</td>\n",
       "      <td>2019.40</td>\n",
       "    </tr>\n",
       "    <tr>\n",
       "      <th>12349.0</th>\n",
       "      <td>19</td>\n",
       "      <td>4</td>\n",
       "      <td>4428.69</td>\n",
       "    </tr>\n",
       "    <tr>\n",
       "      <th>12350.0</th>\n",
       "      <td>310</td>\n",
       "      <td>1</td>\n",
       "      <td>334.40</td>\n",
       "    </tr>\n",
       "  </tbody>\n",
       "</table>\n",
       "</div>"
      ],
      "text/plain": [
       "             Recency  Frequency  Monetary\n",
       "Customer ID                              \n",
       "12346.0          326         12  77556.46\n",
       "12347.0            2          8   5633.32\n",
       "12348.0           75          5   2019.40\n",
       "12349.0           19          4   4428.69\n",
       "12350.0          310          1    334.40"
      ]
     },
     "execution_count": 17,
     "metadata": {},
     "output_type": "execute_result"
    }
   ],
   "source": [
    "#hitung RFM\n",
    "rfm = df.groupby('Customer ID').agg({\n",
    "    'InvoiceDate': lambda x: (reference_date - x.max()).days,\n",
    "    'Invoice': 'nunique',\n",
    "    'TotalSales': 'sum'\n",
    "})\n",
    "\n",
    "#rename kolom\n",
    "rfm.rename(columns={\n",
    "    'InvoiceDate': 'Recency',\n",
    "    'Invoice': 'Frequency',\n",
    "    'TotalSales': 'Monetary'\n",
    "}, inplace=True)\n",
    "\n",
    "rfm.head()"
   ]
  },
  {
   "cell_type": "code",
   "execution_count": 18,
   "id": "beec5ac3",
   "metadata": {},
   "outputs": [],
   "source": [
    "#normalisasi\n",
    "from sklearn.preprocessing import StandardScaler\n",
    "\n",
    "scaler = StandardScaler()\n",
    "rfm_scaled = scaler.fit_transform(rfm)"
   ]
  },
  {
   "cell_type": "code",
   "execution_count": 19,
   "id": "56f110d3",
   "metadata": {},
   "outputs": [
    {
     "data": {
      "text/html": [
       "<div>\n",
       "<style scoped>\n",
       "    .dataframe tbody tr th:only-of-type {\n",
       "        vertical-align: middle;\n",
       "    }\n",
       "\n",
       "    .dataframe tbody tr th {\n",
       "        vertical-align: top;\n",
       "    }\n",
       "\n",
       "    .dataframe thead th {\n",
       "        text-align: right;\n",
       "    }\n",
       "</style>\n",
       "<table border=\"1\" class=\"dataframe\">\n",
       "  <thead>\n",
       "    <tr style=\"text-align: right;\">\n",
       "      <th></th>\n",
       "      <th>Recency</th>\n",
       "      <th>Frequency</th>\n",
       "      <th>Monetary</th>\n",
       "      <th>Cluster</th>\n",
       "    </tr>\n",
       "    <tr>\n",
       "      <th>Customer ID</th>\n",
       "      <th></th>\n",
       "      <th></th>\n",
       "      <th></th>\n",
       "      <th></th>\n",
       "    </tr>\n",
       "  </thead>\n",
       "  <tbody>\n",
       "    <tr>\n",
       "      <th>12346.0</th>\n",
       "      <td>326</td>\n",
       "      <td>12</td>\n",
       "      <td>77556.46</td>\n",
       "      <td>0</td>\n",
       "    </tr>\n",
       "    <tr>\n",
       "      <th>12347.0</th>\n",
       "      <td>2</td>\n",
       "      <td>8</td>\n",
       "      <td>5633.32</td>\n",
       "      <td>0</td>\n",
       "    </tr>\n",
       "    <tr>\n",
       "      <th>12348.0</th>\n",
       "      <td>75</td>\n",
       "      <td>5</td>\n",
       "      <td>2019.40</td>\n",
       "      <td>0</td>\n",
       "    </tr>\n",
       "    <tr>\n",
       "      <th>12349.0</th>\n",
       "      <td>19</td>\n",
       "      <td>4</td>\n",
       "      <td>4428.69</td>\n",
       "      <td>0</td>\n",
       "    </tr>\n",
       "    <tr>\n",
       "      <th>12350.0</th>\n",
       "      <td>310</td>\n",
       "      <td>1</td>\n",
       "      <td>334.40</td>\n",
       "      <td>1</td>\n",
       "    </tr>\n",
       "  </tbody>\n",
       "</table>\n",
       "</div>"
      ],
      "text/plain": [
       "             Recency  Frequency  Monetary  Cluster\n",
       "Customer ID                                       \n",
       "12346.0          326         12  77556.46        0\n",
       "12347.0            2          8   5633.32        0\n",
       "12348.0           75          5   2019.40        0\n",
       "12349.0           19          4   4428.69        0\n",
       "12350.0          310          1    334.40        1"
      ]
     },
     "execution_count": 19,
     "metadata": {},
     "output_type": "execute_result"
    }
   ],
   "source": [
    "#clustering\n",
    "from sklearn.cluster import KMeans\n",
    "\n",
    "#cari jumlah cluster (using elbow method)\n",
    "kmeans = KMeans(n_clusters=4, random_state=42)\n",
    "rfm['Cluster'] = kmeans.fit_predict(rfm_scaled)\n",
    "\n",
    "rfm.head()"
   ]
  },
  {
   "cell_type": "code",
   "execution_count": 20,
   "id": "19438e16",
   "metadata": {},
   "outputs": [
    {
     "data": {
      "text/html": [
       "<div>\n",
       "<style scoped>\n",
       "    .dataframe tbody tr th:only-of-type {\n",
       "        vertical-align: middle;\n",
       "    }\n",
       "\n",
       "    .dataframe tbody tr th {\n",
       "        vertical-align: top;\n",
       "    }\n",
       "\n",
       "    .dataframe thead th {\n",
       "        text-align: right;\n",
       "    }\n",
       "</style>\n",
       "<table border=\"1\" class=\"dataframe\">\n",
       "  <thead>\n",
       "    <tr style=\"text-align: right;\">\n",
       "      <th></th>\n",
       "      <th>Recency</th>\n",
       "      <th>Frequency</th>\n",
       "      <th>Monetary</th>\n",
       "    </tr>\n",
       "    <tr>\n",
       "      <th>Cluster</th>\n",
       "      <th></th>\n",
       "      <th></th>\n",
       "      <th></th>\n",
       "    </tr>\n",
       "  </thead>\n",
       "  <tbody>\n",
       "    <tr>\n",
       "      <th>0</th>\n",
       "      <td>67.005728</td>\n",
       "      <td>7.307732</td>\n",
       "      <td>3009.402451</td>\n",
       "    </tr>\n",
       "    <tr>\n",
       "      <th>1</th>\n",
       "      <td>463.032032</td>\n",
       "      <td>2.212212</td>\n",
       "      <td>765.244446</td>\n",
       "    </tr>\n",
       "    <tr>\n",
       "      <th>2</th>\n",
       "      <td>3.500000</td>\n",
       "      <td>212.500000</td>\n",
       "      <td>436835.792500</td>\n",
       "    </tr>\n",
       "    <tr>\n",
       "      <th>3</th>\n",
       "      <td>25.942857</td>\n",
       "      <td>103.714286</td>\n",
       "      <td>83086.079771</td>\n",
       "    </tr>\n",
       "  </tbody>\n",
       "</table>\n",
       "</div>"
      ],
      "text/plain": [
       "            Recency   Frequency       Monetary\n",
       "Cluster                                       \n",
       "0         67.005728    7.307732    3009.402451\n",
       "1        463.032032    2.212212     765.244446\n",
       "2          3.500000  212.500000  436835.792500\n",
       "3         25.942857  103.714286   83086.079771"
      ]
     },
     "execution_count": 20,
     "metadata": {},
     "output_type": "execute_result"
    }
   ],
   "source": [
    "rfm.groupby('Cluster').mean()"
   ]
  },
  {
   "cell_type": "code",
   "execution_count": 21,
   "id": "9d872a0b",
   "metadata": {},
   "outputs": [],
   "source": [
    "#intepretasi cluster\n",
    "#cluster 0 = pelanggan dengan recency kecil (baru belanja), frequency & monetary tinggi → Loyal / VIP Customers.\n",
    "#cluster 1 = recency tinggi (lama tidak belanja), frequency rendah → Lost Customers.\n",
    "#cluster 2 = frequency menengah, monetary moderat → Potential Customers.\n",
    "#cluster 3 = pelanggan sekali beli → One-time Buyers."
   ]
  },
  {
   "cell_type": "code",
   "execution_count": 22,
   "id": "28d877d8",
   "metadata": {},
   "outputs": [
    {
     "name": "stdout",
     "output_type": "stream",
     "text": [
      "         Recency  Frequency   Monetary  Customers\n",
      "Cluster                                          \n",
      "0          67.01       7.31    3009.40       3841\n",
      "1         463.03       2.21     765.24       1998\n",
      "2           3.50     212.50  436835.79          4\n",
      "3          25.94     103.71   83086.08         35\n"
     ]
    },
    {
     "data": {
      "image/png": "[encoded data removed]",
      "text/plain": [
       "<Figure size 432x288 with 1 Axes>"
      ]
     },
     "metadata": {},
     "output_type": "display_data"
    },
    {
     "data": {
      "image/png": "[encoded data removed]",
      "text/plain": [
       "<Figure size 1152x288 with 3 Axes>"
      ]
     },
     "metadata": {},
     "output_type": "display_data"
    },
    {
     "data": {
      "image/png": "[encoded data removed]",
      "text/plain": [
       "<Figure size 504x360 with 1 Axes>"
      ]
     },
     "metadata": {},
     "output_type": "display_data"
    }
   ],
   "source": [
    "import pandas as pd\n",
    "import matplotlib.pyplot as plt\n",
    "import seaborn as sns\n",
    "\n",
    "# Pastikan tipe dan setelan dasar\n",
    "rfm = rfm.dropna(subset=['Cluster']).copy()\n",
    "rfm['Cluster'] = rfm['Cluster'].astype('category')\n",
    "sns.set(style=\"whitegrid\", font_scale=1.0)\n",
    "\n",
    "# 1) PROFIL SEGMENTASI: mean R/F/M + count per cluster\n",
    "profile = (\n",
    "    rfm.groupby('Cluster')[['Recency','Frequency','Monetary']]\n",
    "       .mean()\n",
    "       .round(2)\n",
    "    .assign(Customers = rfm.groupby('Cluster').size())\n",
    ")\n",
    "print(profile)\n",
    "\n",
    "# 2) JUMLAH PELANGGAN PER CLUSTER (barplot)\n",
    "plt.figure(figsize=(6,4))\n",
    "sns.countplot(data=rfm, x='Cluster')\n",
    "plt.title('Customers per Cluster')\n",
    "plt.xlabel('Cluster')\n",
    "plt.ylabel('Number of Customers')\n",
    "plt.tight_layout()\n",
    "plt.show()\n",
    "\n",
    "# 3) BOX PLOTS: distribusi R/F/M per cluster\n",
    "fig, axes = plt.subplots(1, 3, figsize=(16,4))\n",
    "sns.boxplot(data=rfm, x='Cluster', y='Recency', ax=axes[0])\n",
    "axes[0].set_title('Recency by Cluster (lower = more recent)')\n",
    "\n",
    "sns.boxplot(data=rfm, x='Cluster', y='Frequency', ax=axes[1])\n",
    "axes[1].set_title('Frequency by Cluster')\n",
    "\n",
    "sns.boxplot(data=rfm, x='Cluster', y='Monetary', ax=axes[2])\n",
    "axes[2].set_title('Monetary by Cluster')\n",
    "\n",
    "plt.tight_layout()\n",
    "plt.show()\n",
    "\n",
    "# 4) BAR PLOT MEAN R/F/M per cluster (mudah dibaca manajemen)\n",
    "profile_melt = (\n",
    "    rfm.groupby('Cluster')[['Recency','Frequency','Monetary']]\n",
    "       .mean()\n",
    "       .reset_index()\n",
    "       .melt(id_vars='Cluster', var_name='Metric', value_name='Mean')\n",
    ")\n",
    "\n",
    "plt.figure(figsize=(7,5))\n",
    "sns.barplot(data=profile_melt, x='Cluster', y='Mean', hue='Metric')\n",
    "plt.title('Mean R / F / M by Cluster')\n",
    "plt.tight_layout()\n",
    "plt.show()"
   ]
  },
  {
   "cell_type": "code",
   "execution_count": 23,
   "id": "03eb712f",
   "metadata": {},
   "outputs": [
    {
     "data": {
      "image/png": "[encoded data removed]",
      "text/plain": [
       "<Figure size 432x288 with 2 Axes>"
      ]
     },
     "metadata": {},
     "output_type": "display_data"
    }
   ],
   "source": [
    "from sklearn.preprocessing import StandardScaler\n",
    "sc = StandardScaler()\n",
    "z = pd.DataFrame(sc.fit_transform(rfm[['Recency','Frequency','Monetary']]),\n",
    "                 columns=['Recency','Frequency','Monetary'], index=rfm.index)\n",
    "z['Cluster'] = rfm['Cluster'].values\n",
    "z_mean = z.groupby('Cluster')[['Recency','Frequency','Monetary']].mean().round(2)\n",
    "\n",
    "plt.figure(figsize=(6,4))\n",
    "sns.heatmap(z_mean, annot=True, cmap='RdBu_r', center=0, fmt='.2f')\n",
    "plt.title('Cluster z-score means (0≈avg; + high; – low)')\n",
    "plt.tight_layout()\n",
    "plt.show()\n"
   ]
  },
  {
   "cell_type": "code",
   "execution_count": 24,
   "id": "60267a86",
   "metadata": {},
   "outputs": [
    {
     "name": "stdout",
     "output_type": "stream",
     "text": [
      "         Recency  Frequency   Monetary  Score       Segment\n",
      "Cluster                                                    \n",
      "0          67.01       7.31    3009.40    9.0  Medium Value\n",
      "1         463.03       2.21     765.24   12.0       At Risk\n",
      "2           3.50     212.50  436835.79    3.0     Low Value\n",
      "3          25.94     103.71   83086.08    6.0  Medium Value\n",
      "Medium Value    3876\n",
      "At Risk         1998\n",
      "Low Value          4\n",
      "Name: Segment, dtype: int64\n"
     ]
    }
   ],
   "source": [
    "# Asumsi rfm punya kolom 'Cluster'\n",
    "prof = rfm.groupby('Cluster')[['Recency','Frequency','Monetary']].mean()\n",
    "\n",
    "# Rank: Recency ascending (kecil = baik), Frequency & Monetary descending (besar = baik)\n",
    "prof['R_rank'] = prof['Recency'].rank(ascending=True,  method='dense')\n",
    "prof['F_rank'] = prof['Frequency'].rank(ascending=False, method='dense')\n",
    "prof['M_rank'] = prof['Monetary'].rank(ascending=False, method='dense')\n",
    "\n",
    "# Skor gabungan untuk menentukan High vs Low\n",
    "prof['Score'] = prof['R_rank'] + prof['F_rank'] + prof['M_rank']\n",
    "\n",
    "# Tentukan cluster utama\n",
    "high_cluster   = prof['Score'].idxmax()                                # terbaik total\n",
    "low_cluster    = prof['Score'].idxmin()                                # terlemah total\n",
    "at_risk_cluster= prof.sort_values(['Recency','Frequency'],\n",
    "                                  ascending=[False, True]).index[0]    # recency terburuk & freq rendah\n",
    "\n",
    "# Default label\n",
    "prof['Segment'] = 'Medium Value'\n",
    "prof.loc[high_cluster, 'Segment'] = 'High Value'\n",
    "prof.loc[low_cluster,  'Segment'] = 'Low Value'\n",
    "prof.loc[at_risk_cluster, 'Segment'] = 'At Risk'\n",
    "\n",
    "# Map balik ke setiap customer\n",
    "rfm['Segment'] = rfm['Cluster'].map(prof['Segment'])\n",
    "\n",
    "print(prof[['Recency','Frequency','Monetary','Score','Segment']].round(2))\n",
    "print(rfm['Segment'].value_counts())\n"
   ]
  },
  {
   "cell_type": "code",
   "execution_count": 25,
   "id": "50823094",
   "metadata": {},
   "outputs": [
    {
     "name": "stdout",
     "output_type": "stream",
     "text": [
      "Medium Value    3876\n",
      "At Risk         1998\n",
      "Low Value          4\n",
      "Name: Segment, dtype: int64\n"
     ]
    },
    {
     "data": {
      "image/png": "[encoded data removed]",
      "text/plain": [
       "<Figure size 432x288 with 1 Axes>"
      ]
     },
     "metadata": {},
     "output_type": "display_data"
    },
    {
     "data": {
      "image/png": "[encoded data removed]",
      "text/plain": [
       "<Figure size 360x360 with 1 Axes>"
      ]
     },
     "metadata": {},
     "output_type": "display_data"
    },
    {
     "data": {
      "image/png": "[encoded data removed]",
      "text/plain": [
       "<Figure size 432x288 with 1 Axes>"
      ]
     },
     "metadata": {},
     "output_type": "display_data"
    }
   ],
   "source": [
    "import matplotlib.pyplot as plt\n",
    "import seaborn as sns\n",
    "\n",
    "# Pastikan kolom Segment sudah ada\n",
    "print(rfm['Segment'].value_counts())\n",
    "\n",
    "# 1) Jumlah pelanggan per segmen\n",
    "plt.figure(figsize=(6,4))\n",
    "sns.countplot(data=rfm, x='Segment', order=rfm['Segment'].value_counts().index, palette=\"Set2\")\n",
    "plt.title(\"Number of Customers per Segment\")\n",
    "plt.xlabel(\"Segment\")\n",
    "plt.ylabel(\"Number of Customers\")\n",
    "plt.xticks(rotation=30)\n",
    "plt.tight_layout()\n",
    "plt.show()\n",
    "\n",
    "# (Opsional) pie chart\n",
    "rfm['Segment'].value_counts().plot.pie(\n",
    "    autopct='%1.1f%%', figsize=(5,5), colors=sns.color_palette(\"Set2\"))\n",
    "plt.title(\"Customer Distribution per Segment\")\n",
    "plt.ylabel(\"\")\n",
    "plt.show()\n",
    "\n",
    "# 2) Total revenue per segmen\n",
    "revenue_per_segment = rfm.groupby('Segment')['Monetary'].sum().sort_values(ascending=False)\n",
    "\n",
    "plt.figure(figsize=(6,4))\n",
    "sns.barplot(x=revenue_per_segment.index, y=revenue_per_segment.values, palette=\"Set1\")\n",
    "plt.title(\"Total Revenue per Segment\")\n",
    "plt.xlabel(\"Segment\")\n",
    "plt.ylabel(\"Total Revenue\")\n",
    "plt.xticks(rotation=30)\n",
    "plt.tight_layout()\n",
    "plt.show()\n"
   ]
  },
  {
   "cell_type": "code",
   "execution_count": 26,
   "id": "6bd6aae2",
   "metadata": {},
   "outputs": [
    {
     "name": "stdout",
     "output_type": "stream",
     "text": [
      "        Segment  Customers       Revenue  % Customers  % Revenue\n",
      "2  Medium Value       3876  1.446713e+07        65.94      81.54\n",
      "1     Low Value          4  1.747343e+06         0.07       9.85\n",
      "0       At Risk       1998  1.528958e+06        33.99       8.62\n"
     ]
    }
   ],
   "source": [
    "# Hitung ringkasan per segmen\n",
    "summary = rfm.groupby('Segment').agg(\n",
    "    Customers = ('Segment','count'),\n",
    "    Revenue   = ('Monetary','sum')\n",
    ").reset_index()\n",
    "\n",
    "# Hitung persentase\n",
    "total_customers = summary['Customers'].sum()\n",
    "total_revenue   = summary['Revenue'].sum()\n",
    "\n",
    "summary['% Customers'] = (summary['Customers'] / total_customers * 100).round(2)\n",
    "summary['% Revenue']   = (summary['Revenue'] / total_revenue * 100).round(2)\n",
    "\n",
    "# Urutkan berdasarkan revenue (opsional)\n",
    "summary = summary.sort_values(by='Revenue', ascending=False)\n",
    "\n",
    "print(summary)\n"
   ]
  },
  {
   "cell_type": "code",
   "execution_count": 27,
   "id": "51cb8b63",
   "metadata": {},
   "outputs": [
    {
     "data": {
      "text/plain": [
       "(805549, 8)"
      ]
     },
     "execution_count": 27,
     "metadata": {},
     "output_type": "execute_result"
    }
   ],
   "source": [
    "df.shape"
   ]
  },
  {
   "cell_type": "code",
   "execution_count": null,
   "id": "3ffe8fe6",
   "metadata": {},
   "outputs": [],
   "source": []
  }
 ],
 "metadata": {
  "kernelspec": {
   "display_name": "Python 3 (ipykernel)",
   "language": "python",
   "name": "python3"
  },
  "language_info": {
   "codemirror_mode": {
    "name": "ipython",
    "version": 3
   },
   "file_extension": ".py",
   "mimetype": "text/x-python",
   "name": "python",
   "nbconvert_exporter": "python",
   "pygments_lexer": "ipython3",
   "version": "3.9.12"
  }
 },
 "nbformat": 4,
 "nbformat_minor": 5
}
